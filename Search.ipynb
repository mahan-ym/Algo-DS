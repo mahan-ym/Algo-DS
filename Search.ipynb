{
 "cells": [
  {
   "metadata": {},
   "cell_type": "markdown",
   "source": [
    "# This Notebook is about the search algorithms.\n",
    "\n"
   ]
  },
  {
   "metadata": {},
   "cell_type": "markdown",
   "source": [
    "# Linear Search\n",
    "\n",
    "iterate over an array Linearly and find the element.\n",
    "\n",
    "Complexity: O(n)"
   ]
  },
  {
   "metadata": {},
   "cell_type": "markdown",
   "source": [
    "params: input: integer array that we want to search through, searchParam: the parameter we want to look up in the provided array.\n",
    "\n",
    "Output: Nullable Int ( returns the index of the found Item or null if the item is not available)"
   ]
  },
  {
   "metadata": {
    "ExecuteTime": {
     "end_time": "2024-07-06T14:14:34.019439Z",
     "start_time": "2024-07-06T14:14:33.938719Z"
    }
   },
   "cell_type": "code",
   "source": [
    "fun LinearSearch(input: IntArray, searchParam: Int): Int? {\n",
    "    input.forEachIndexed { index: Int, element: Int ->\n",
    "        if (searchParam == element)\n",
    "            return index\n",
    "    }\n",
    "    return null\n",
    "}"
   ],
   "outputs": [],
   "execution_count": 3
  },
  {
   "metadata": {},
   "cell_type": "markdown",
   "source": "## Test"
  },
  {
   "metadata": {
    "ExecuteTime": {
     "end_time": "2024-07-06T14:24:37.377975Z",
     "start_time": "2024-07-06T14:24:37.324106Z"
    }
   },
   "cell_type": "code",
   "source": "LinearSearch(intArrayOf(1, 2, 3, 4, 5, 6, 7, 8, 9, 10), 5)",
   "outputs": [
    {
     "data": {
      "text/plain": [
       "4"
      ]
     },
     "execution_count": 8,
     "metadata": {},
     "output_type": "execute_result"
    }
   ],
   "execution_count": 8
  },
  {
   "metadata": {},
   "cell_type": "markdown",
   "source": [
    "# Binary Search\n",
    "\n",
    "Iterate over the array by dividing the array into half and compare the search param to the middle element, if the search param is less than the middle element, then we will search in the left half of the array, else we will search in the right half of the array. Continue this process until we find the element.\n",
    "\n",
    "Complexity: O(log n)\n",
    "\n",
    "Note: The array should be sorted before applying search."
   ]
  },
  {
   "metadata": {
    "ExecuteTime": {
     "end_time": "2024-07-06T14:23:40.313295Z",
     "start_time": "2024-07-06T14:23:40.167579Z"
    }
   },
   "cell_type": "code",
   "source": [
    "fun BinarySearch(input: IntArray, searchParam: Int): Int? {\n",
    "    var lo = 0 \n",
    "    var hi = input.size\n",
    "    do {\n",
    "        var midIndx = floor((lo + (hi - lo) / 2).toDouble()).toInt()\n",
    "        var midElement = input[midIndx]\n",
    "        \n",
    "        if (midElement == searchParam)\n",
    "            return midIndx\n",
    "        else if (midElement < searchParam)\n",
    "            lo = midIndx + 1 // drop the midle element\n",
    "        else\n",
    "            hi = midIndx\n",
    "    } while (lo < hi)\n",
    "    return null\n",
    "}"
   ],
   "outputs": [],
   "execution_count": 6
  },
  {
   "metadata": {},
   "cell_type": "markdown",
   "source": "## Test"
  },
  {
   "metadata": {
    "ExecuteTime": {
     "end_time": "2024-07-06T14:24:03.034269Z",
     "start_time": "2024-07-06T14:24:02.961563Z"
    }
   },
   "cell_type": "code",
   "source": "BinarySearch(intArrayOf(1, 2, 3, 4, 5, 6, 7, 8, 9, 10), 5)",
   "outputs": [
    {
     "data": {
      "text/plain": [
       "4"
      ]
     },
     "execution_count": 7,
     "metadata": {},
     "output_type": "execute_result"
    }
   ],
   "execution_count": 7
  },
  {
   "metadata": {},
   "cell_type": "code",
   "outputs": [],
   "execution_count": null,
   "source": ""
  }
 ],
 "metadata": {
  "kernelspec": {
   "display_name": "Kotlin",
   "language": "kotlin",
   "name": "kotlin"
  },
  "language_info": {
   "name": "kotlin",
   "version": "1.9.23",
   "mimetype": "text/x-kotlin",
   "file_extension": ".kt",
   "pygments_lexer": "kotlin",
   "codemirror_mode": "text/x-kotlin",
   "nbconvert_exporter": ""
  }
 },
 "nbformat": 4,
 "nbformat_minor": 0
}
