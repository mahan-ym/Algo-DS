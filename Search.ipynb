{
 "cells": [
  {
   "metadata": {},
   "cell_type": "markdown",
   "source": [
    "# This Notebook is about the search algorithms.\n",
    "\n"
   ]
  },
  {
   "metadata": {},
   "cell_type": "markdown",
   "source": [
    "# Linear Search\n",
    "\n",
    "iterate over an array Linearly and find the element.\n",
    "\n",
    "Complexity: O(n)"
   ]
  },
  {
   "metadata": {},
   "cell_type": "markdown",
   "source": [
    "params: input: integer array that we want to search through, searchParam: the parameter we want to look up in the provided array.\n",
    "\n",
    "Output: Nullable Int ( returns the index of the found Item or null if the item is not available)"
   ]
  },
  {
   "metadata": {
    "ExecuteTime": {
     "end_time": "2024-07-06T14:14:34.019439Z",
     "start_time": "2024-07-06T14:14:33.938719Z"
    }
   },
   "cell_type": "code",
   "source": [
    "fun LinearSearch(input: IntArray, searchParam: Int): Int? {\n",
    "    input.forEachIndexed { index: Int, element: Int ->\n",
    "        if (searchParam == element)\n",
    "            return index\n",
    "    }\n",
    "    return null\n",
    "}"
   ],
   "outputs": [],
   "execution_count": 3
  },
  {
   "metadata": {},
   "cell_type": "markdown",
   "source": "## Test"
  },
  {
   "metadata": {
    "ExecuteTime": {
     "end_time": "2024-07-06T14:24:37.377975Z",
     "start_time": "2024-07-06T14:24:37.324106Z"
    }
   },
   "cell_type": "code",
   "source": "LinearSearch(intArrayOf(1, 2, 3, 4, 5, 6, 7, 8, 9, 10), 5)",
   "outputs": [
    {
     "data": {
      "text/plain": [
       "4"
      ]
     },
     "execution_count": 8,
     "metadata": {},
     "output_type": "execute_result"
    }
   ],
   "execution_count": 8
  },
  {
   "metadata": {},
   "cell_type": "markdown",
   "source": [
    "# Binary Search\n",
    "\n",
    "Iterate over the array by dividing the array into half and compare the search param to the middle element, if the search param is less than the middle element, then we will search in the left half of the array, else we will search in the right half of the array. Continue this process until we find the element.\n",
    "\n",
    "Complexity: O(log n)\n",
    "\n",
    "Note: The array should be sorted before applying search."
   ]
  },
  {
   "metadata": {
    "ExecuteTime": {
     "end_time": "2024-07-06T14:23:40.313295Z",
     "start_time": "2024-07-06T14:23:40.167579Z"
    }
   },
   "cell_type": "code",
   "source": [
    "fun BinarySearch(input: IntArray, searchParam: Int): Int? {\n",
    "    var lo = 0 \n",
    "    var hi = input.size\n",
    "    do {\n",
    "        var midIndx = floor((lo + (hi - lo) / 2).toDouble()).toInt()\n",
    "        var midElement = input[midIndx]\n",
    "        \n",
    "        if (midElement == searchParam)\n",
    "            return midIndx\n",
    "        else if (midElement < searchParam)\n",
    "            lo = midIndx + 1 // drop the midle element\n",
    "        else\n",
    "            hi = midIndx\n",
    "    } while (lo < hi)\n",
    "    return null\n",
    "}"
   ],
   "outputs": [],
   "execution_count": 6
  },
  {
   "metadata": {},
   "cell_type": "markdown",
   "source": "## Test"
  },
  {
   "metadata": {
    "ExecuteTime": {
     "end_time": "2024-07-06T14:24:03.034269Z",
     "start_time": "2024-07-06T14:24:02.961563Z"
    }
   },
   "cell_type": "code",
   "source": "BinarySearch(intArrayOf(1, 2, 3, 4, 5, 6, 7, 8, 9, 10), 5)",
   "outputs": [
    {
     "data": {
      "text/plain": [
       "4"
      ]
     },
     "execution_count": 7,
     "metadata": {},
     "output_type": "execute_result"
    }
   ],
   "execution_count": 7
  },
  {
   "metadata": {},
   "cell_type": "markdown",
   "source": [
    "# Example: (based on the Frontend Masters course by The Primeagen)\n",
    "\n",
    "Given two crystal balls that will break if dropped from high enough\n",
    "distance, determine the exact spot in which it will break in the most\n",
    "optimized way."
   ]
  },
  {
   "metadata": {},
   "cell_type": "markdown",
   "source": "In this implementation we jump with the value of square root of the input array So the complexity is Sqr(N)"
  },
  {
   "metadata": {
    "ExecuteTime": {
     "end_time": "2024-07-06T16:16:38.187257Z",
     "start_time": "2024-07-06T16:16:38.088860Z"
    }
   },
   "cell_type": "code",
   "source": [
    "fun CrystalBallDropTest(input: BooleanArray): Int {\n",
    "    val jumpVal = floor(sqrt(input.size.toDouble())).toInt()\n",
    "    var index = jumpVal\n",
    "    while (index < input.size) {\n",
    "        if (input[index])\n",
    "            break\n",
    "        index += jumpVal\n",
    "    }\n",
    "    index -= jumpVal\n",
    "    \n",
    "    var j = 0\n",
    "    while (j <= jumpVal && index < input.size) {\n",
    "        if (input[index])\n",
    "            return index\n",
    "        index ++\n",
    "        j ++\n",
    "    }\n",
    "    \n",
    "    return -1\n",
    "}"
   ],
   "outputs": [],
   "execution_count": 32
  },
  {
   "metadata": {},
   "cell_type": "markdown",
   "source": "## Test"
  },
  {
   "metadata": {
    "ExecuteTime": {
     "end_time": "2024-07-06T16:17:06.895505Z",
     "start_time": "2024-07-06T16:17:06.848802Z"
    }
   },
   "cell_type": "code",
   "source": "CrystalBallDropTest(booleanArrayOf(false,false,false,false,false,false,false,false,false,false,true))",
   "outputs": [
    {
     "data": {
      "text/plain": [
       "10"
      ]
     },
     "execution_count": 39,
     "metadata": {},
     "output_type": "execute_result"
    }
   ],
   "execution_count": 39
  },
  {
   "metadata": {
    "ExecuteTime": {
     "end_time": "2024-07-06T16:17:05.079400Z",
     "start_time": "2024-07-06T16:17:05.012885Z"
    }
   },
   "cell_type": "code",
   "source": "CrystalBallDropTest(booleanArrayOf(false,false,false,false,false,false,false,false,false,true,true))",
   "outputs": [
    {
     "data": {
      "text/plain": [
       "9"
      ]
     },
     "execution_count": 38,
     "metadata": {},
     "output_type": "execute_result"
    }
   ],
   "execution_count": 38
  },
  {
   "metadata": {
    "ExecuteTime": {
     "end_time": "2024-07-06T16:17:09.202761Z",
     "start_time": "2024-07-06T16:17:09.145598Z"
    }
   },
   "cell_type": "code",
   "source": "CrystalBallDropTest(booleanArrayOf(false,false,false,false,false,false,false,false,true,true,true))",
   "outputs": [
    {
     "data": {
      "text/plain": [
       "8"
      ]
     },
     "execution_count": 40,
     "metadata": {},
     "output_type": "execute_result"
    }
   ],
   "execution_count": 40
  },
  {
   "metadata": {
    "ExecuteTime": {
     "end_time": "2024-07-06T16:17:10.004837Z",
     "start_time": "2024-07-06T16:17:09.953407Z"
    }
   },
   "cell_type": "code",
   "source": "CrystalBallDropTest(booleanArrayOf(false,false,false,false,false,false,true,true))",
   "outputs": [
    {
     "data": {
      "text/plain": [
       "6"
      ]
     },
     "execution_count": 41,
     "metadata": {},
     "output_type": "execute_result"
    }
   ],
   "execution_count": 41
  },
  {
   "metadata": {},
   "cell_type": "code",
   "outputs": [],
   "execution_count": null,
   "source": ""
  }
 ],
 "metadata": {
  "kernelspec": {
   "display_name": "Kotlin",
   "language": "kotlin",
   "name": "kotlin"
  },
  "language_info": {
   "name": "kotlin",
   "version": "1.9.23",
   "mimetype": "text/x-kotlin",
   "file_extension": ".kt",
   "pygments_lexer": "kotlin",
   "codemirror_mode": "text/x-kotlin",
   "nbconvert_exporter": ""
  }
 },
 "nbformat": 4,
 "nbformat_minor": 0
}
