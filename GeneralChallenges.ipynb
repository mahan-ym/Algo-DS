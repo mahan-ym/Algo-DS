{
 "cells": [
  {
   "metadata": {},
   "cell_type": "markdown",
   "source": [
    "# Problem #1\n",
    "We are provided an input in form of html code:\n",
    "\n",
    "- return true if the tags are set up correctly\n",
    "- return the first malformed tag if it can be fixed by omitting, editing, or adding another tag\n",
    "- return false if there were more than two problems of if the input couldn't be fixed.\n",
    "\n",
    "Example: \n",
    "\n",
    "Input: ```\"<em></em><em></em><p></b>\"```\n",
    "\n",
    "Output: p\n",
    "\n",
    "Input: ```\"<em></em><em></em>\"```\n",
    "\n",
    "Output: true\n",
    "\n",
    "Input: ```\"<em></em><em></em></b>\"```\n",
    "\n",
    "Output: b\n",
    "\n",
    "Input: ```\"<em></em><em></em><p></b><p>\"```\n",
    "\n",
    "Output: false"
   ]
  },
  {
   "cell_type": "code",
   "metadata": {
    "collapsed": true,
    "ExecuteTime": {
     "end_time": "2024-07-16T16:36:18.856401Z",
     "start_time": "2024-07-16T16:36:18.704906Z"
    }
   },
   "source": [
    "sealed class CheckDomResult {\n",
    "    data class Flag(val value: Boolean): CheckDomResult()\n",
    "    data class ErrorTag(val value: String): CheckDomResult()\n",
    "}\n",
    "\n",
    "val regPattern = \"<?/?([a-z]+)[^>]*>\".toRegex(RegexOption.IGNORE_CASE)\n",
    "\n",
    "fun CheckDOM(input: String): CheckDomResult {\n",
    "    var stack = mutableListOf<String>()\n",
    "    var errorTags = mutableListOf<String>()\n",
    "    regPattern.findAll(input).forEach { match ->\n",
    "        var tag = match.groupValues[1]\n",
    "        val isClosingTag = match.groupValues[0][1] == '/'\n",
    "        if (isClosingTag.not())\n",
    "            stack.add(tag)\n",
    "        else {\n",
    "            if (stack.size == 0 || stack[stack.size -1] != tag)\n",
    "                errorTags.add(tag)\n",
    "            else\n",
    "                stack.removeLast()\n",
    "        }\n",
    "    }\n",
    "    \n",
    "    if (stack.size == 0 && errorTags.size == 0) return CheckDomResult.Flag(true)\n",
    "    if (stack.size == 1 && errorTags.size == 1) return CheckDomResult.ErrorTag(stack[0])\n",
    "    if (stack.size == 1 && errorTags.size == 0) return CheckDomResult.ErrorTag(stack[0])\n",
    "    if (stack.size == 0 && errorTags.size == 1) return CheckDomResult.ErrorTag(errorTags[0])\n",
    "    \n",
    "    return CheckDomResult.Flag(false)\n",
    "}"
   ],
   "outputs": [],
   "execution_count": 59
  },
  {
   "metadata": {},
   "cell_type": "markdown",
   "source": "## Tests"
  },
  {
   "metadata": {
    "ExecuteTime": {
     "end_time": "2024-07-16T16:36:19.490689Z",
     "start_time": "2024-07-16T16:36:19.446221Z"
    }
   },
   "cell_type": "code",
   "source": [
    "\n",
    "CheckDOM(\"<em></em><  p   ><em></em>\")"
   ],
   "outputs": [
    {
     "data": {
      "text/plain": [
       "ErrorTag(value=p)"
      ]
     },
     "execution_count": 60,
     "metadata": {},
     "output_type": "execute_result"
    }
   ],
   "execution_count": 60
  },
  {
   "metadata": {
    "ExecuteTime": {
     "end_time": "2024-07-16T16:36:20.465932Z",
     "start_time": "2024-07-16T16:36:20.427610Z"
    }
   },
   "cell_type": "code",
   "source": "CheckDOM(\"<em></em><em></em><p></b>\")",
   "outputs": [
    {
     "data": {
      "text/plain": [
       "ErrorTag(value=p)"
      ]
     },
     "execution_count": 61,
     "metadata": {},
     "output_type": "execute_result"
    }
   ],
   "execution_count": 61
  },
  {
   "metadata": {
    "ExecuteTime": {
     "end_time": "2024-07-16T16:36:21.266462Z",
     "start_time": "2024-07-16T16:36:21.231093Z"
    }
   },
   "cell_type": "code",
   "source": "CheckDOM(\"<em></em><em></em></b>\")\n",
   "outputs": [
    {
     "data": {
      "text/plain": [
       "ErrorTag(value=b)"
      ]
     },
     "execution_count": 62,
     "metadata": {},
     "output_type": "execute_result"
    }
   ],
   "execution_count": 62
  },
  {
   "metadata": {
    "ExecuteTime": {
     "end_time": "2024-07-16T16:36:22.025716Z",
     "start_time": "2024-07-16T16:36:21.991411Z"
    }
   },
   "cell_type": "code",
   "source": "CheckDOM(\"<em></em><em></em><p></b>\")\n",
   "outputs": [
    {
     "data": {
      "text/plain": [
       "ErrorTag(value=p)"
      ]
     },
     "execution_count": 63,
     "metadata": {},
     "output_type": "execute_result"
    }
   ],
   "execution_count": 63
  },
  {
   "metadata": {
    "ExecuteTime": {
     "end_time": "2024-07-16T16:36:22.572765Z",
     "start_time": "2024-07-16T16:36:22.528632Z"
    }
   },
   "cell_type": "code",
   "source": "CheckDOM(\"<em></em><em></em><p></b><p>\")",
   "outputs": [
    {
     "data": {
      "text/plain": [
       "Flag(value=false)"
      ]
     },
     "execution_count": 64,
     "metadata": {},
     "output_type": "execute_result"
    }
   ],
   "execution_count": 64
  },
  {
   "metadata": {},
   "cell_type": "markdown",
   "source": [
    "# Problem #2 Merge Sorted Array\n",
    "\n",
    "Based on this [Problem](https://leetcode.com/problems/merge-sorted-array/?envType=study-plan-v2&envId=top-interview-150)\n",
    "\n",
    "- You are given two integer arrays nums1 and nums2, sorted in non-decreasing order, and two integers m and n, representing the number of elements in nums1 and nums2 respectively.\n",
    "\n",
    "- Merge nums1 and nums2 into a single array sorted in non-decreasing order.\n",
    "\n",
    "- The final sorted array should not be returned by the function, but instead be stored inside the array nums1. To accommodate this, nums1 has a length of m + n, where the first m elements denote the elements that should be merged, and the last n elements are set to 0 and should be ignored. nums2 has a length of n.\n",
    "\n",
    "Example 1:\n",
    "\n",
    "Input: nums1 = [1,2,3,0,0,0], m = 3, nums2 = [2,5,6], n = 3\n",
    "\n",
    "Output: [1,2,2,3,5,6]\n",
    "\n",
    "Explanation: The arrays we are merging are [1,2,3] and [2,5,6].\n",
    "\n",
    "The result of the merge is [1,2,2,3,5,6] with the underlined elements coming from nums1.\n",
    "\n",
    "Input: nums1 = [1], m = 1, nums2 = [], n = 0\n",
    "\n",
    "Output: [1]\n",
    "\n",
    "Explanation: The arrays we are merging are [1] and [].\n",
    "\n",
    "The result of the merge is [1].\n",
    "\n",
    "Input: nums1 = [0], m = 0, nums2 = [1], n = 1\n",
    "\n",
    "Output: [1]\n",
    "\n",
    "Explanation: The arrays we are merging are [] and [1].\n",
    "\n",
    "The result of the merge is [1].\n",
    "\n",
    "Note that because m = 0, there are no elements in nums1. The 0 is only there to ensure the merge result can fit in nums1.\n",
    "\n"
   ]
  },
  {
   "metadata": {
    "ExecuteTime": {
     "end_time": "2024-07-19T15:07:03.139749Z",
     "start_time": "2024-07-19T15:07:03.072319Z"
    }
   },
   "cell_type": "code",
   "source": [
    "// this is actually the merge sort which the dividing section is already satisfied and all we have to do is to merge two lists\n",
    "// As the question suggests the result cant be in another array and should be saved into num1\n",
    "fun Merge(nums1: IntArray, m: Int, nums2: IntArray, n: Int): Unit {\n",
    "    var leftIndex = m-1\n",
    "    var rightIndex = n-1\n",
    "    var index = m+n-1\n",
    "    \n",
    "    while (rightIndex >= 0) {\n",
    "       nums1[index] = if ( leftIndex <0 || nums1[leftIndex] < nums2[rightIndex]) nums2[rightIndex--] else nums1[leftIndex--]\n",
    "        index--\n",
    "    }\n",
    "    \n",
    "}"
   ],
   "outputs": [],
   "execution_count": 35
  },
  {
   "metadata": {
    "ExecuteTime": {
     "end_time": "2024-07-19T15:07:03.704701Z",
     "start_time": "2024-07-19T15:07:03.610364Z"
    }
   },
   "cell_type": "code",
   "source": [
    "//test \n",
    "var nums1 = intArrayOf(1,2,3,0,0,0)\n",
    "Merge(nums1, 3, intArrayOf(2,5,6), 3)\n",
    "println(nums1.toList().toString())\n"
   ],
   "outputs": [
    {
     "name": "stdout",
     "output_type": "stream",
     "text": [
      "[1, 2, 2, 3, 5, 6]\n"
     ]
    }
   ],
   "execution_count": 36
  },
  {
   "metadata": {},
   "cell_type": "markdown",
   "source": "Info: This is called a two pointer approach and as it is necessary to save the result in one of the provided arrays, then the reverse iteration of the array is recommended."
  },
  {
   "metadata": {},
   "cell_type": "code",
   "outputs": [],
   "execution_count": null,
   "source": ""
  }
 ],
 "metadata": {
  "kernelspec": {
   "display_name": "Kotlin",
   "language": "kotlin",
   "name": "kotlin"
  },
  "language_info": {
   "name": "kotlin",
   "version": "1.9.23",
   "mimetype": "text/x-kotlin",
   "file_extension": ".kt",
   "pygments_lexer": "kotlin",
   "codemirror_mode": "text/x-kotlin",
   "nbconvert_exporter": ""
  }
 },
 "nbformat": 4,
 "nbformat_minor": 0
}
