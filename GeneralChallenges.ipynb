{
 "cells": [
  {
   "metadata": {},
   "cell_type": "markdown",
   "source": [
    "# Problem #1\n",
    "We are provided an input in form of html code:\n",
    "\n",
    "- return true if the tags are set up correctly\n",
    "- return the first malformed tag if it can be fixed by omitting, editing, or adding another tag\n",
    "- return false if there were more than two problems of if the input couldn't be fixed.\n",
    "\n",
    "Example: \n",
    "\n",
    "Input: ```\"<em></em><em></em><p></b>\"```\n",
    "\n",
    "Output: p\n",
    "\n",
    "Input: ```\"<em></em><em></em>\"```\n",
    "\n",
    "Output: true\n",
    "\n",
    "Input: ```\"<em></em><em></em></b>\"```\n",
    "\n",
    "Output: b\n",
    "\n",
    "Input: ```\"<em></em><em></em><p></b><p>\"```\n",
    "\n",
    "Output: false"
   ]
  },
  {
   "cell_type": "code",
   "metadata": {
    "collapsed": true,
    "ExecuteTime": {
     "end_time": "2024-07-16T16:36:18.856401Z",
     "start_time": "2024-07-16T16:36:18.704906Z"
    }
   },
   "source": [
    "sealed class CheckDomResult {\n",
    "    data class Flag(val value: Boolean): CheckDomResult()\n",
    "    data class ErrorTag(val value: String): CheckDomResult()\n",
    "}\n",
    "\n",
    "val regPattern = \"<?/?([a-z]+)[^>]*>\".toRegex(RegexOption.IGNORE_CASE)\n",
    "\n",
    "fun CheckDOM(input: String): CheckDomResult {\n",
    "    var stack = mutableListOf<String>()\n",
    "    var errorTags = mutableListOf<String>()\n",
    "    regPattern.findAll(input).forEach { match ->\n",
    "        var tag = match.groupValues[1]\n",
    "        val isClosingTag = match.groupValues[0][1] == '/'\n",
    "        if (isClosingTag.not())\n",
    "            stack.add(tag)\n",
    "        else {\n",
    "            if (stack.size == 0 || stack[stack.size -1] != tag)\n",
    "                errorTags.add(tag)\n",
    "            else\n",
    "                stack.removeLast()\n",
    "        }\n",
    "    }\n",
    "    \n",
    "    if (stack.size == 0 && errorTags.size == 0) return CheckDomResult.Flag(true)\n",
    "    if (stack.size == 1 && errorTags.size == 1) return CheckDomResult.ErrorTag(stack[0])\n",
    "    if (stack.size == 1 && errorTags.size == 0) return CheckDomResult.ErrorTag(stack[0])\n",
    "    if (stack.size == 0 && errorTags.size == 1) return CheckDomResult.ErrorTag(errorTags[0])\n",
    "    \n",
    "    return CheckDomResult.Flag(false)\n",
    "}"
   ],
   "outputs": [],
   "execution_count": 59
  },
  {
   "metadata": {},
   "cell_type": "markdown",
   "source": "## Tests"
  },
  {
   "metadata": {
    "ExecuteTime": {
     "end_time": "2024-07-16T16:36:19.490689Z",
     "start_time": "2024-07-16T16:36:19.446221Z"
    }
   },
   "cell_type": "code",
   "source": [
    "\n",
    "CheckDOM(\"<em></em><  p   ><em></em>\")"
   ],
   "outputs": [
    {
     "data": {
      "text/plain": [
       "ErrorTag(value=p)"
      ]
     },
     "execution_count": 60,
     "metadata": {},
     "output_type": "execute_result"
    }
   ],
   "execution_count": 60
  },
  {
   "metadata": {
    "ExecuteTime": {
     "end_time": "2024-07-16T16:36:20.465932Z",
     "start_time": "2024-07-16T16:36:20.427610Z"
    }
   },
   "cell_type": "code",
   "source": "CheckDOM(\"<em></em><em></em><p></b>\")",
   "outputs": [
    {
     "data": {
      "text/plain": [
       "ErrorTag(value=p)"
      ]
     },
     "execution_count": 61,
     "metadata": {},
     "output_type": "execute_result"
    }
   ],
   "execution_count": 61
  },
  {
   "metadata": {
    "ExecuteTime": {
     "end_time": "2024-07-16T16:36:21.266462Z",
     "start_time": "2024-07-16T16:36:21.231093Z"
    }
   },
   "cell_type": "code",
   "source": "CheckDOM(\"<em></em><em></em></b>\")\n",
   "outputs": [
    {
     "data": {
      "text/plain": [
       "ErrorTag(value=b)"
      ]
     },
     "execution_count": 62,
     "metadata": {},
     "output_type": "execute_result"
    }
   ],
   "execution_count": 62
  },
  {
   "metadata": {
    "ExecuteTime": {
     "end_time": "2024-07-16T16:36:22.025716Z",
     "start_time": "2024-07-16T16:36:21.991411Z"
    }
   },
   "cell_type": "code",
   "source": "CheckDOM(\"<em></em><em></em><p></b>\")\n",
   "outputs": [
    {
     "data": {
      "text/plain": [
       "ErrorTag(value=p)"
      ]
     },
     "execution_count": 63,
     "metadata": {},
     "output_type": "execute_result"
    }
   ],
   "execution_count": 63
  },
  {
   "metadata": {
    "ExecuteTime": {
     "end_time": "2024-07-16T16:36:22.572765Z",
     "start_time": "2024-07-16T16:36:22.528632Z"
    }
   },
   "cell_type": "code",
   "source": "CheckDOM(\"<em></em><em></em><p></b><p>\")",
   "outputs": [
    {
     "data": {
      "text/plain": [
       "Flag(value=false)"
      ]
     },
     "execution_count": 64,
     "metadata": {},
     "output_type": "execute_result"
    }
   ],
   "execution_count": 64
  }
 ],
 "metadata": {
  "kernelspec": {
   "display_name": "Kotlin",
   "language": "kotlin",
   "name": "kotlin"
  },
  "language_info": {
   "name": "kotlin",
   "version": "1.9.23",
   "mimetype": "text/x-kotlin",
   "file_extension": ".kt",
   "pygments_lexer": "kotlin",
   "codemirror_mode": "text/x-kotlin",
   "nbconvert_exporter": ""
  }
 },
 "nbformat": 4,
 "nbformat_minor": 0
}
