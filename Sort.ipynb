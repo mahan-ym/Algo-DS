{
 "cells": [
  {
   "metadata": {},
   "cell_type": "markdown",
   "source": "# This Notebook is about the Sort algorithms.\n"
  },
  {
   "metadata": {},
   "cell_type": "markdown",
   "source": [
    "# Bubble Sort\n",
    " \n",
    "Simplest sorting algorithm that works by repeatedly swapping the adjacent elements if they are in wrong order and put the maximum element at the end of the list.\n",
    "The iterations, make an arithmetical progression, so the time complexity is O(n^2). ( n*(n-1)/2 )"
   ]
  },
  {
   "cell_type": "code",
   "metadata": {
    "collapsed": true,
    "ExecuteTime": {
     "end_time": "2024-07-07T17:22:20.553907Z",
     "start_time": "2024-07-07T17:22:19.985792Z"
    }
   },
   "source": [
    "fun BubbleSort(input: IntArray) {\n",
    "    for (index in 0 until input.size) {\n",
    "        for (j in 0 until input.size - index - 1) {\n",
    "            if (input[j] > input[j+1]){\n",
    "                var temp = input[j]\n",
    "                input[j] = input[j+1]\n",
    "                input[j+1] = temp\n",
    "            }\n",
    "        }\n",
    "    }\n",
    "}"
   ],
   "outputs": [],
   "execution_count": 1
  },
  {
   "metadata": {},
   "cell_type": "markdown",
   "source": "## Test"
  },
  {
   "metadata": {
    "ExecuteTime": {
     "end_time": "2024-07-07T17:26:29.519897Z",
     "start_time": "2024-07-07T17:26:29.453796Z"
    }
   },
   "cell_type": "code",
   "source": [
    "var input = intArrayOf(64, 34, 25, 12, 22, 11, 90)\n",
    "BubbleSort(input)\n",
    "println(\"Sorted array is: ${input.toList()}\")"
   ],
   "outputs": [
    {
     "name": "stdout",
     "output_type": "stream",
     "text": [
      "Sorted array is: [11, 12, 22, 25, 34, 64, 90]\n"
     ]
    }
   ],
   "execution_count": 5
  },
  {
   "metadata": {},
   "cell_type": "code",
   "outputs": [],
   "execution_count": null,
   "source": ""
  }
 ],
 "metadata": {
  "kernelspec": {
   "display_name": "Kotlin",
   "language": "kotlin",
   "name": "kotlin"
  },
  "language_info": {
   "name": "kotlin",
   "version": "1.9.23",
   "mimetype": "text/x-kotlin",
   "file_extension": ".kt",
   "pygments_lexer": "kotlin",
   "codemirror_mode": "text/x-kotlin",
   "nbconvert_exporter": ""
  }
 },
 "nbformat": 4,
 "nbformat_minor": 0
}
